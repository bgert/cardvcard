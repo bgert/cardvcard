{
 "cells": [
  {
   "cell_type": "markdown",
   "source": [
    "### Validation\n",
    "Validating a credit card involves the Luhn algorithm works as follows:\n",
    "1. The Luhn algorithm starts from the last digit which is called the check digit. Then moving left from this check digit (←), double the value of every digit at even indices.\n",
    "2. If the result of this doubling operation is greater than 9 (e.g., 6 × 2 = 12), then subtract 9 from the result (e.g., 12: 12 − 9 = 3) or, equivalently, add the digits of the result (e.g., 12: 1 + 2 =3).\n",
    "3. Now sum all the digits (including the check digit).\n",
    "4. If the total is divisible by 10 then the number is valid; otherwise, it is not valid."
   ],
   "metadata": {
    "collapsed": false
   },
   "id": "4f29177d8df9115b"
  },
  {
   "cell_type": "code",
   "execution_count": 3,
   "id": "858df0bc",
   "metadata": {
    "ExecuteTime": {
     "end_time": "2024-02-14T21:15:21.953661Z",
     "start_time": "2024-02-14T21:15:21.940945Z"
    }
   },
   "outputs": [
    {
     "data": {
      "text/plain": "True"
     },
     "execution_count": 3,
     "metadata": {},
     "output_type": "execute_result"
    }
   ],
   "source": [
    "# Validate the card the old fashioned way, function accepts 1 argument: number, returns true/false plus issuer\n",
    "\n",
    "def validate(number: str):\n",
    "    card_number_lst = [int(num) for num in number]\n",
    "    check_digit = card_number_lst.pop(-1)\n",
    "    card_number_lst.reverse()\n",
    "    card_number_lst = [num * 2 if i % 2 == 0 else num for i, num in enumerate(card_number_lst)]\n",
    "    card_number_lst = [num - 9 if num > 9 else num for num in card_number_lst]\n",
    "    total = sum(card_number_lst) + check_digit\n",
    "    return total % 10 == 0\n",
    "validate('345106858850943')"
   ]
  },
  {
   "cell_type": "markdown",
   "source": [
    "### Card Type\n",
    "Only looking to determine if the number belongs to these 4 issuers: Visa, MasterCard, American Express, Discover\n",
    "A card from a given issuer always starts with this number:\n",
    "- Visa: 4\n",
    "- MasterCard: 51, 52, 53, 54, 55\n",
    "- American Express: 34, 37\n",
    "- Discover: 6011"
   ],
   "metadata": {
    "collapsed": false
   },
   "id": "ebcfd5390d1822c9"
  },
  {
   "cell_type": "code",
   "outputs": [
    {
     "data": {
      "text/plain": "'American Express'"
     },
     "execution_count": 4,
     "metadata": {},
     "output_type": "execute_result"
    }
   ],
   "source": [
    "def card_type(number: str):\n",
    "    if number[0] == '4':\n",
    "        return 'Visa'\n",
    "    elif number[:2] in ['51', '52', '53', '54', '55']:\n",
    "        return 'MasterCard'\n",
    "    elif number[:2] in ['34', '37']:\n",
    "        return 'American Express'\n",
    "    elif number[:4] == '6011':\n",
    "        return 'Discover'\n",
    "    else:\n",
    "        return 'Unknown'\n",
    "\n",
    "card_type('345106858850943')"
   ],
   "metadata": {
    "collapsed": false,
    "ExecuteTime": {
     "end_time": "2024-02-14T21:15:21.953894Z",
     "start_time": "2024-02-14T21:15:21.944828Z"
    }
   },
   "id": "4f776698d144efb6",
   "execution_count": 4
  },
  {
   "cell_type": "markdown",
   "source": [
    "### Generation\n",
    "To make this efficient and mitigate the need to post my own CC numbers on the internet, I have written the following function that generates a valid credit card number for a given issuer."
   ],
   "metadata": {
    "collapsed": false
   },
   "id": "e88276f7e851458f"
  },
  {
   "cell_type": "code",
   "outputs": [
    {
     "data": {
      "text/plain": "['4353986618915115', '5207257228348872', '6011100231111305', '375560998349583']"
     },
     "execution_count": 5,
     "metadata": {},
     "output_type": "execute_result"
    }
   ],
   "source": [
    "import random\n",
    "visa = ['4']\n",
    "mastercard = ['51', '52', '53', '54', '55']\n",
    "discover = ['6011']\n",
    "amex = ['34', '37']\n",
    "def generate(issuer: str) -> str:\n",
    "    if issuer == 'visa':\n",
    "        return generate_credit_card(visa[0], 16)\n",
    "    elif issuer == 'mastercard':\n",
    "        return generate_credit_card(random.choice(mastercard),16)\n",
    "    elif issuer == 'discover':\n",
    "        return generate_credit_card(discover[0],16)\n",
    "    elif issuer == 'amex':\n",
    "        return generate_credit_card(random.choice(amex),15)\n",
    "    else:\n",
    "        return 'Unknown'\n",
    "\n",
    "\n",
    "def generate_credit_card(prefix: str = '', length: int = 16) -> str:\n",
    "    if length < 2:\n",
    "        raise ValueError(\"Length must be at least 2\")\n",
    "    if len(prefix) > 4:\n",
    "        raise ValueError(\"Prefix length must be at most 4\")\n",
    "\n",
    "    # Generate the random part of the credit card number\n",
    "    random_part_length = length - len(prefix)\n",
    "    random_part = ''.join(str(random.randint(0, 9)) for _ in range(random_part_length - 1))\n",
    "\n",
    "    # Combine prefix and random part\n",
    "    card_number = prefix + random_part\n",
    "    digits = [int(digit) for digit in card_number]\n",
    "    odd_digits = digits[-1::-2]\n",
    "    even_digits = digits[-2::-2]\n",
    "    checksum = sum(even_digits) + sum(sum(divmod(2 * digit, 10)) for digit in odd_digits)\n",
    "    check_digit = 9 * checksum % 10\n",
    "\n",
    "    # Append the check digit to the credit card number\n",
    "    card_number += str(check_digit)\n",
    "\n",
    "    return card_number    \n",
    "    \n",
    "[generate('visa'),\n",
    "generate('mastercard'),\n",
    "generate('discover'),\n",
    "generate('amex')]"
   ],
   "metadata": {
    "collapsed": false,
    "ExecuteTime": {
     "end_time": "2024-02-14T21:15:21.958690Z",
     "start_time": "2024-02-14T21:15:21.951290Z"
    }
   },
   "id": "54508bd11b259e6d",
   "execution_count": 5
  },
  {
   "cell_type": "code",
   "outputs": [
    {
     "name": "stdout",
     "output_type": "stream",
     "text": [
      "4056737278767704 is a Visa card and is True\n",
      "5181067600588486 is a MasterCard card and is True\n",
      "6011469943093600 is a Discover card and is True\n",
      "349774294914791 is a American Express card and is True\n"
     ]
    }
   ],
   "source": [
    "# Put it all together\n",
    "numbers = [generate('visa'),\n",
    " generate('mastercard'),\n",
    " generate('discover'),\n",
    " generate('amex')]\n",
    "for number in numbers:\n",
    "    print(f'{number} is a {card_type(number)} card and is {validate(number)}')"
   ],
   "metadata": {
    "collapsed": false,
    "ExecuteTime": {
     "end_time": "2024-02-14T21:16:17.892304Z",
     "start_time": "2024-02-14T21:16:17.887803Z"
    }
   },
   "id": "7498dd39d01ed6c",
   "execution_count": 7
  },
  {
   "cell_type": "markdown",
   "source": [
    "### Editorial\n",
    "This is very easy code to write (I swiped all of it from the web), and it executes very quickly. It is obviously more efficient and simpler than using an LLM for the purpose of validating credit card numbers, however, it requires that someone know python (or coding in general). The directions for verifying a credit card number have been expressed in plain english above, and a person could be given those instructions and verify credit card numbers, no python necessary. A person with no technical expertise could also give these guidelines to an LLM and ask the LLM to verify credit card numbers. There are products coming onto the market that abstract away all the implementation and deployment steps of setting up an LLM to do something, and allow you to create processes out of LLM blocks, passing the output of one in as the input to the next. Rather than each block executing computer code, each block queries an LLM with instructions that can be given in human language. This empowers the non-technical to build functions that can automate tasks. We are going to explore whether an LLM can capably validate CC numbers given instructions in english. We will also see if an LLM can generate a valid CC number given instructions in english."
   ],
   "metadata": {
    "collapsed": false
   },
   "id": "4aa60011533ccd7"
  },
  {
   "cell_type": "markdown",
   "source": [
    "### Validating with an LLM\n",
    "#### ChatGPT\n",
    "As an experiment I tried to get ChatGPT to do this. This was the initial prompt I gave it:\n",
    "```\n",
    "you are a function machine. Your purpose is to return true if a credit card number is valid. The following is how you would determine if a credit card number is valid:\n",
    "Validating a credit card involves the Luhn algorithm works as follows:\n",
    "1. The Luhn algorithm starts from the last digit which is called the check digit. Then moving left from this check digit (←), double the value of every digit at even indices.\n",
    "2. If the result of this doubling operation is greater than 9 (e.g., 6 × 2 = 12), then subtract 9 from the result (e.g., 12: 12 − 9 = 3) or, equivalently, add the digits of the result (e.g., 12: 1 + 2 =3).\n",
    "3. Now sum all the digits (including the check digit).\n",
    "4. If the total is divisible by 10 then the number is valid; otherwise, it is not valid.\n",
    "\n",
    "\n",
    "is the following number a valid credit card number?\n",
    "345106858850943\n",
    "```\n",
    "That is a valid credit card number so it should have replied true, instead it replied false and gave this explanation of its thoughts.\n",
    "```\n",
    "To determine if the credit card number 345106858850943 is valid using the Luhn algorithm, we need to follow these steps:\n",
    "\n",
    "Starting from the right (the check digit), double the value of every other digit.\n",
    "If the doubled value is greater than 9, subtract 9 from it.\n",
    "Sum all the digits.\n",
    "If the total sum is divisible by 10, the credit card number is valid.\n",
    "Let's apply these steps:\n",
    "\n",
    "Reverse the number: 349058858601543\n",
    "Double every other digit starting from the second digit from the right (the check digit is not doubled):\n",
    "3(2) 4 9(2) 0 5(2) 8 8(2) 6 0(2) 1 5(2) 4 3\n",
    "\n",
    "After doubling and, if necessary, subtracting 9:\n",
    "3(6) 4 9(4) 0 5(10) 8 8(16) 6 0(2) 1 5(10) 4 3\n",
    "\n",
    "Sum all the digits:\n",
    "3 + 6 + 4 + 9 + 4 + 0 + 5 + 1 + 0 + 8 + 8 + 1 + 6 + 6 + 0 + 2 + 1 + 5 + 1 + 0 + 4 + 3 = 82\n",
    "\n",
    "Check if the sum is divisible by 10:\n",
    "82 % 10 = 2 (not divisible by 10)\n",
    "\n",
    "Since the sum is not divisible by 10, the credit card number 345106858850943 is not valid according to the Luhn algorithm.\n",
    "```\n",
    "The mistake was that it forgot to remove the checksum digit before reversing the string. After going back and forth I got it to do the process correctly, however, when I gave it another credit card number, it forgot the corrections I had already given it and made the same mistakes again.\n",
    "### Purpose built LLM"
   ],
   "metadata": {
    "collapsed": false
   },
   "id": "a11dc4c6ac796be6"
  },
  {
   "cell_type": "markdown",
   "source": [],
   "metadata": {
    "collapsed": false
   },
   "id": "6110d5dbb9d6373e"
  },
  {
   "cell_type": "code",
   "outputs": [
    {
     "name": "stdout",
     "output_type": "stream",
     "text": [
      "['/Users/benjamingertz/Library/Application Support/JetBrains/IntelliJIdea2023.3/plugins/python/helpers-pro/jupyter_debug', '/Users/benjamingertz/Library/Application Support/JetBrains/IntelliJIdea2023.3/plugins/python/helpers/pydev', '/Users/benjamingertz/Desktop/dev/cardvcard', '/Users/benjamingertz/Desktop/dev/cardvcard', '/opt/homebrew/Cellar/python@3.11/3.11.6/Frameworks/Python.framework/Versions/3.11/lib/python311.zip', '/opt/homebrew/Cellar/python@3.11/3.11.6/Frameworks/Python.framework/Versions/3.11/lib/python3.11', '/opt/homebrew/Cellar/python@3.11/3.11.6/Frameworks/Python.framework/Versions/3.11/lib/python3.11/lib-dynload', '', '/opt/homebrew/lib/python3.11/site-packages']\n"
     ]
    },
    {
     "ename": "ModuleNotFoundError",
     "evalue": "No module named 'langchain_community'",
     "output_type": "error",
     "traceback": [
      "\u001B[0;31m---------------------------------------------------------------------------\u001B[0m",
      "\u001B[0;31mModuleNotFoundError\u001B[0m                       Traceback (most recent call last)",
      "Cell \u001B[0;32mIn[8], line 5\u001B[0m\n\u001B[1;32m      2\u001B[0m \u001B[38;5;28mprint\u001B[39m(sys\u001B[38;5;241m.\u001B[39mpath)\n\u001B[1;32m      3\u001B[0m \u001B[38;5;66;03m# sys.path.append('/Users/benjamingertz/Desktop/dev/cardvcard/venv/lib/python3.11/site-packages')\u001B[39;00m\n\u001B[0;32m----> 5\u001B[0m \u001B[38;5;28;01mfrom\u001B[39;00m \u001B[38;5;21;01mlangchain_community\u001B[39;00m\u001B[38;5;21;01m.\u001B[39;00m\u001B[38;5;21;01mllms\u001B[39;00m \u001B[38;5;28;01mimport\u001B[39;00m Ollama\n\u001B[1;32m      7\u001B[0m llm \u001B[38;5;241m=\u001B[39m Ollama(model\u001B[38;5;241m=\u001B[39m\u001B[38;5;124m\"\u001B[39m\u001B[38;5;124mllama2:13b\u001B[39m\u001B[38;5;124m\"\u001B[39m)\n\u001B[1;32m      9\u001B[0m llm\u001B[38;5;241m.\u001B[39minvoke(\u001B[38;5;124m\"\u001B[39m\u001B[38;5;124mTell me a joke\u001B[39m\u001B[38;5;124m\"\u001B[39m)\n",
      "\u001B[0;31mModuleNotFoundError\u001B[0m: No module named 'langchain_community'"
     ]
    }
   ],
   "source": [
    "import sys\n",
    "print(sys.path)\n",
    "# sys.path.append('/Users/benjamingertz/Desktop/dev/cardvcard/venv/lib/python3.11/site-packages')\n",
    "\n",
    "from langchain_community.llms import Ollama\n",
    "\n",
    "llm = Ollama(model=\"llama2:13b\")\n",
    "\n",
    "llm.invoke(\"Tell me a joke\")"
   ],
   "metadata": {
    "collapsed": false,
    "ExecuteTime": {
     "end_time": "2024-02-14T21:16:21.067227Z",
     "start_time": "2024-02-14T21:16:21.055630Z"
    }
   },
   "id": "b110a92c00733a2e",
   "execution_count": 8
  },
  {
   "cell_type": "code",
   "outputs": [],
   "source": [],
   "metadata": {
    "collapsed": false,
    "ExecuteTime": {
     "end_time": "2024-02-14T21:15:22.643983Z",
     "start_time": "2024-02-14T21:15:22.554289Z"
    }
   },
   "id": "79cba1fcdd6e36f8",
   "execution_count": 6
  }
 ],
 "metadata": {
  "kernelspec": {
   "display_name": "Python 3 (ipykernel)",
   "language": "python",
   "name": "python3"
  },
  "language_info": {
   "codemirror_mode": {
    "name": "ipython",
    "version": 3
   },
   "file_extension": ".py",
   "mimetype": "text/x-python",
   "name": "python",
   "nbconvert_exporter": "python",
   "pygments_lexer": "ipython3",
   "version": "3.11.6"
  }
 },
 "nbformat": 4,
 "nbformat_minor": 5
}
