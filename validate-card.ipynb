{
 "cells": [
  {
   "cell_type": "markdown",
   "id": "4f29177d8df9115b",
   "metadata": {
    "collapsed": false
   },
   "source": [
    "### Validation\n",
    "Validating a credit card involves the Luhn algorithm works as follows:\n",
    "1. The Luhn algorithm starts from the last digit which is called the check digit. Then moving left from this check digit (←), double the value of every digit at even indices.\n",
    "2. If the result of this doubling operation is greater than 9 (e.g., 6 × 2 = 12), then subtract 9 from the result (e.g., 12: 12 − 9 = 3) or, equivalently, add the digits of the result (e.g., 12: 1 + 2 =3).\n",
    "3. Now sum all the digits (including the check digit).\n",
    "4. If the total is divisible by 10 then the number is valid; otherwise, it is not valid."
   ]
  },
  {
   "cell_type": "code",
   "execution_count": 3,
   "id": "858df0bc",
   "metadata": {
    "ExecuteTime": {
     "end_time": "2024-02-14T22:31:59.913397Z",
     "start_time": "2024-02-14T22:31:59.899919Z"
    }
   },
   "outputs": [
    {
     "data": {
      "text/plain": [
       "True"
      ]
     },
     "execution_count": 3,
     "metadata": {},
     "output_type": "execute_result"
    }
   ],
   "source": [
    "# Validate the card the old fashioned way, function accepts 1 argument: number, returns true/false plus issuer\n",
    "\n",
    "def validate(number: str):\n",
    "    card_number_lst = [int(num) for num in number]\n",
    "    check_digit = card_number_lst.pop(-1)\n",
    "    card_number_lst.reverse()\n",
    "    card_number_lst = [num * 2 if i % 2 == 0 else num for i, num in enumerate(card_number_lst)]\n",
    "    card_number_lst = [num - 9 if num > 9 else num for num in card_number_lst]\n",
    "    total = sum(card_number_lst) + check_digit\n",
    "    return total % 10 == 0\n",
    "validate('345106858850943')"
   ]
  },
  {
   "cell_type": "markdown",
   "id": "ebcfd5390d1822c9",
   "metadata": {
    "collapsed": false
   },
   "source": [
    "### Card Type\n",
    "Only looking to determine if the number belongs to these 4 issuers: Visa, MasterCard, American Express, Discover\n",
    "A card from a given issuer always starts with this number:\n",
    "- Visa: 4\n",
    "- MasterCard: 51, 52, 53, 54, 55\n",
    "- American Express: 34, 37\n",
    "- Discover: 6011"
   ]
  },
  {
   "cell_type": "code",
   "execution_count": 4,
   "id": "4f776698d144efb6",
   "metadata": {
    "ExecuteTime": {
     "end_time": "2024-02-14T22:31:59.913752Z",
     "start_time": "2024-02-14T22:31:59.905342Z"
    },
    "collapsed": false
   },
   "outputs": [
    {
     "data": {
      "text/plain": [
       "'American Express'"
      ]
     },
     "execution_count": 4,
     "metadata": {},
     "output_type": "execute_result"
    }
   ],
   "source": [
    "def card_type(number: str):\n",
    "    if number[0] == '4':\n",
    "        return 'Visa'\n",
    "    elif number[:2] in ['51', '52', '53', '54', '55']:\n",
    "        return 'MasterCard'\n",
    "    elif number[:2] in ['34', '37']:\n",
    "        return 'American Express'\n",
    "    elif number[:4] == '6011':\n",
    "        return 'Discover'\n",
    "    else:\n",
    "        return 'Unknown'\n",
    "\n",
    "card_type('345106858850943')"
   ]
  },
  {
   "cell_type": "markdown",
   "id": "e88276f7e851458f",
   "metadata": {
    "collapsed": false
   },
   "source": [
    "### Generation\n",
    "To make this efficient and mitigate the need to post my own CC numbers on the internet, I have written the following function that generates a valid credit card number for a given issuer."
   ]
  },
  {
   "cell_type": "code",
   "execution_count": 5,
   "id": "54508bd11b259e6d",
   "metadata": {
    "ExecuteTime": {
     "end_time": "2024-02-14T22:31:59.915757Z",
     "start_time": "2024-02-14T22:31:59.911963Z"
    },
    "collapsed": false
   },
   "outputs": [
    {
     "data": {
      "text/plain": [
       "['4581396493527320', '5558663778160390', '6011628875787121', '342862376778874']"
      ]
     },
     "execution_count": 5,
     "metadata": {},
     "output_type": "execute_result"
    }
   ],
   "source": [
    "import random\n",
    "visa = ['4']\n",
    "mastercard = ['51', '52', '53', '54', '55']\n",
    "discover = ['6011']\n",
    "amex = ['34', '37']\n",
    "def generate(issuer: str) -> str:\n",
    "    if issuer == 'visa':\n",
    "        return generate_credit_card(visa[0], 16)\n",
    "    elif issuer == 'mastercard':\n",
    "        return generate_credit_card(random.choice(mastercard),16)\n",
    "    elif issuer == 'discover':\n",
    "        return generate_credit_card(discover[0],16)\n",
    "    elif issuer == 'amex':\n",
    "        return generate_credit_card(random.choice(amex),15)\n",
    "    else:\n",
    "        return 'Unknown'\n",
    "\n",
    "\n",
    "def generate_credit_card(prefix: str = '', length: int = 16) -> str:\n",
    "    if length < 2:\n",
    "        raise ValueError(\"Length must be at least 2\")\n",
    "    if len(prefix) > 4:\n",
    "        raise ValueError(\"Prefix length must be at most 4\")\n",
    "\n",
    "    # Generate the random part of the credit card number\n",
    "    random_part_length = length - len(prefix)\n",
    "    random_part = ''.join(str(random.randint(0, 9)) for _ in range(random_part_length - 1))\n",
    "\n",
    "    # Combine prefix and random part\n",
    "    card_number = prefix + random_part\n",
    "    digits = [int(digit) for digit in card_number]\n",
    "    odd_digits = digits[-1::-2]\n",
    "    even_digits = digits[-2::-2]\n",
    "    checksum = sum(even_digits) + sum(sum(divmod(2 * digit, 10)) for digit in odd_digits)\n",
    "    check_digit = 9 * checksum % 10\n",
    "\n",
    "    # Append the check digit to the credit card number\n",
    "    card_number += str(check_digit)\n",
    "\n",
    "    return card_number    \n",
    "    \n",
    "[generate('visa'),\n",
    "generate('mastercard'),\n",
    "generate('discover'),\n",
    "generate('amex')]"
   ]
  },
  {
   "cell_type": "code",
   "execution_count": 6,
   "id": "7498dd39d01ed6c",
   "metadata": {
    "ExecuteTime": {
     "end_time": "2024-02-14T22:31:59.921647Z",
     "start_time": "2024-02-14T22:31:59.915565Z"
    },
    "collapsed": false
   },
   "outputs": [
    {
     "name": "stdout",
     "output_type": "stream",
     "text": [
      "4653022489304820 is a Visa card and is True\n",
      "5402638068667450 is a MasterCard card and is True\n",
      "6011445780605359 is a Discover card and is True\n",
      "378316218364663 is a American Express card and is True\n"
     ]
    }
   ],
   "source": [
    "# Put it all together\n",
    "numbers = [generate('visa'),\n",
    " generate('mastercard'),\n",
    " generate('discover'),\n",
    " generate('amex')]\n",
    "for number in numbers:\n",
    "    print(f'{number} is a {card_type(number)} card and is {validate(number)}')"
   ]
  },
  {
   "cell_type": "markdown",
   "id": "4aa60011533ccd7",
   "metadata": {
    "collapsed": false
   },
   "source": [
    "### Editorial\n",
    "This is very easy code to write (I swiped all of it from the web), and it executes very quickly. It is obviously more efficient and simpler than using an LLM for the purpose of validating credit card numbers, however, it requires that someone know python (or coding in general). The directions for verifying a credit card number have been expressed in plain english above, and a person could be given those instructions and verify credit card numbers, no python necessary. A person with no technical expertise could also give these guidelines to an LLM and ask the LLM to verify credit card numbers. There are products coming onto the market that abstract away all the implementation and deployment steps of setting up an LLM to do something, and allow you to create processes out of LLM blocks, passing the output of one in as the input to the next. Rather than each block executing computer code, each block queries an LLM with instructions that can be given in human language. This empowers the non-technical to build functions that can automate tasks. We are going to explore whether an LLM can capably validate CC numbers given instructions in english. We will also see if an LLM can generate a valid CC number given instructions in english."
   ]
  },
  {
   "cell_type": "markdown",
   "id": "a11dc4c6ac796be6",
   "metadata": {
    "collapsed": false
   },
   "source": [
    "### Validating with an LLM\n",
    "#### ChatGPT\n",
    "As an experiment I tried to get ChatGPT to do this. This was the initial prompt I gave it:\n",
    "```\n",
    "you are a function machine. Your purpose is to return true if a credit card number is valid. The following is how you would determine if a credit card number is valid:\n",
    "Validating a credit card involves the Luhn algorithm works as follows:\n",
    "1. The Luhn algorithm starts from the last digit which is called the check digit. Then moving left from this check digit (←), double the value of every digit at even indices.\n",
    "2. If the result of this doubling operation is greater than 9 (e.g., 6 × 2 = 12), then subtract 9 from the result (e.g., 12: 12 − 9 = 3) or, equivalently, add the digits of the result (e.g., 12: 1 + 2 =3).\n",
    "3. Now sum all the digits (including the check digit).\n",
    "4. If the total is divisible by 10 then the number is valid; otherwise, it is not valid.\n",
    "\n",
    "\n",
    "is the following number a valid credit card number?\n",
    "345106858850943\n",
    "```\n",
    "That is a valid credit card number so it should have replied true, instead it replied false and gave this explanation of its thoughts.\n",
    "```\n",
    "To determine if the credit card number 345106858850943 is valid using the Luhn algorithm, we need to follow these steps:\n",
    "\n",
    "Starting from the right (the check digit), double the value of every other digit.\n",
    "If the doubled value is greater than 9, subtract 9 from it.\n",
    "Sum all the digits.\n",
    "If the total sum is divisible by 10, the credit card number is valid.\n",
    "Let's apply these steps:\n",
    "\n",
    "Reverse the number: 349058858601543\n",
    "Double every other digit starting from the second digit from the right (the check digit is not doubled):\n",
    "3(2) 4 9(2) 0 5(2) 8 8(2) 6 0(2) 1 5(2) 4 3\n",
    "\n",
    "After doubling and, if necessary, subtracting 9:\n",
    "3(6) 4 9(4) 0 5(10) 8 8(16) 6 0(2) 1 5(10) 4 3\n",
    "\n",
    "Sum all the digits:\n",
    "3 + 6 + 4 + 9 + 4 + 0 + 5 + 1 + 0 + 8 + 8 + 1 + 6 + 6 + 0 + 2 + 1 + 5 + 1 + 0 + 4 + 3 = 82\n",
    "\n",
    "Check if the sum is divisible by 10:\n",
    "82 % 10 = 2 (not divisible by 10)\n",
    "\n",
    "Since the sum is not divisible by 10, the credit card number 345106858850943 is not valid according to the Luhn algorithm.\n",
    "```\n",
    "The mistake was that it forgot to remove the checksum digit before reversing the string. After going back and forth I got it to do the process correctly, however, when I gave it another credit card number, it forgot the corrections I had already given it and made the same mistakes again.\n",
    "### Some open source LLMs"
   ]
  },
  {
   "cell_type": "code",
   "execution_count": 7,
   "id": "b110a92c00733a2e",
   "metadata": {
    "ExecuteTime": {
     "end_time": "2024-02-14T22:32:16.099899Z",
     "start_time": "2024-02-14T22:31:59.920918Z"
    },
    "collapsed": false
   },
   "outputs": [
    {
     "data": {
      "text/plain": [
       "'To determine if the credit card number 4653022489304820 is valid using the Luhn algorithm, we will follow the steps outlined:\\n\\n1. The last digit of the credit card number is 9, which we will use as the check digit.\\n2. We double the value of every digit at even indices:\\n* 4 × 2 = 8\\n* 6 × 2 = 12\\n* 3 × 2 = 6\\n* 0 × 2 = 0\\n3. If the result of the doubling operation is greater than 9, we subtract 9 from the result:\\n* 12 - 9 = 3\\n4. Now we sum all the digits (including the check digit):\\n* 4 + 6 + 3 + 0 = 13\\n5. Finally, we check if the total is divisible by 10:\\n* 13 / 10 = 1.3\\nSince the result is not a whole number, the credit card number is not valid.\\n\\nTherefore, the credit card number 4653022489304820 is invalid.'"
      ]
     },
     "execution_count": 7,
     "metadata": {},
     "output_type": "execute_result"
    }
   ],
   "source": [
    "from langchain_community.llms import Ollama\n",
    "prompt = \"Take a deep breath before answering. The following is how you would determine if a credit card number is valid:\\nValidating a credit card involves the Luhn algorithm works as follows:\\n1. The Luhn algorithm starts from the last digit which is called the check digit. Then moving left from this check digit (←), double the value of every digit at even indices.\\n2. If the result of this doubling operation is greater than 9 (e.g., 6 × 2 = 12), then subtract 9 from the result (e.g., 12: 12 − 9 = 3) or, equivalently, add the digits of the result (e.g., 12: 1 + 2 =3).\\n3. Now sum all the digits (including the check digit).\\n4. If the total is divisible by 10 then the number is valid; otherwise, it is not valid.\\n\\n\\n is the following number valid? \" + str(numbers[0])\n",
    "llm = Ollama(model=\"llama2\")\n",
    "\n",
    "llm.invoke(prompt)"
   ]
  },
  {
   "cell_type": "code",
   "execution_count": 7,
   "id": "79cba1fcdd6e36f8",
   "metadata": {
    "ExecuteTime": {
     "end_time": "2024-02-14T22:32:48.073895Z",
     "start_time": "2024-02-14T22:32:16.100418Z"
    },
    "collapsed": false
   },
   "outputs": [
    {
     "data": {
      "text/plain": [
       "\"\\nOkay, let's take a deep breath and go through this step by step. 😌\\n\\nSo, the Luhn algorithm starts with the last digit, which is 3. 🔎\\n\\nStep 1: Double every digit at even indices. 📈\\n\\n* 4 x 2 = 8 (even index)\\n* 6 x 2 = 12 (even index)\\n* 3 x 2 = 6 (even index)\\n\\nStep 2: If the result of doubling is greater than 9, subtract 9. 🔪\\n\\n* 8 - 9 = -1 (fail)\\n* 12 - 9 = 3 (pass)\\n* 6 - 9 = -3 (fail)\\n\\nStep 3: Sum all the digits. 📝\\n\\n* 4 + 6 + 3 + 8 + 1 + 2 + 5 + 5 + 3 = 37 (pass)\\n\\nStep 4: If the total is divisible by 10, the number is valid. 🔢\\n\\nThe total of 37 is indeed divisible by 10, so the credit card number 4060371938874355 is valid! 💰\\n\\nAnd that's how you use the Luhn algorithm to validate a credit card number! 🎉\""
      ]
     },
     "execution_count": 7,
     "metadata": {},
     "output_type": "execute_result"
    }
   ],
   "source": [
    "from langchain_community.llms import Ollama\n",
    "\n",
    "llm = Ollama(model=\"llama2:13b\")\n",
    "\n",
    "llm.invoke(prompt)"
   ]
  },
  {
   "cell_type": "code",
   "execution_count": 8,
   "id": "bd3b92a9be5f7895",
   "metadata": {
    "ExecuteTime": {
     "end_time": "2024-02-14T22:33:32.745659Z",
     "start_time": "2024-02-14T22:32:48.073209Z"
    },
    "collapsed": false
   },
   "outputs": [
    {
     "data": {
      "text/plain": [
       "'\\nStep 1: Identify the check digit\\nThe check digit is the last digit of the credit card number, which in this case is 5.\\n\\nStep 2: Double the value of every digit at even indices\\nWe will start from the leftmost digit (3) and double its value: 3 * 2 = 6. Next, we move to the second digit (0), double its value: 0 * 2 = 0. Then, we move to the fourth digit (7), double its value: 7 * 2 = 14, which is greater than 9. So, we subtract 9 from the result: 14 - 9 = 5. We continue this process for all even digits, including the check digit (5).\\n\\nStep 3: Sum all the digits\\nNow, we add up all the digits, both odd and even, along with the check digit: 6 + 0 + 7 + 5 + 5 = 23.\\n\\nStep 4: Check if the total is divisible by 10\\nSince 23 is not divisible by 10 (23 / 10 = 2 with a remainder of 3), the credit card number is not valid according to the Luhn algorithm.\\n\\nSo, the rewritten answer is: The given credit card number is 4060371938874355. Following the Luhn algorithm, we find that the check digit is 5. Doubling the even digits (0 and 5) results in 0 and 10, which is greater than 9. Subtracting 9 gives us 1 and 2, respectively. Adding these together, we get a sum of 3. Since this number is not divisible by 10, the credit card number is not valid.\\n\\nThe answer is: The check digit is 5 (the last digit).\\nNow, double the following digits: 0 * 2 = 0; 3 * 2 = 6; 7 * 2 = 14; 1 * 2 = 2; 9 * 2 = 18. Since 14 is greater than 9, we subtract 9 from the result: 14 - 9 = 5. Now, sum all the digits: 0 + 6 + 14 + 2 + 18 + 5 = 35.\\nSince 35 is not divisible by 10, the credit card number is not valid.\\n\\n'"
      ]
     },
     "execution_count": 8,
     "metadata": {},
     "output_type": "execute_result"
    }
   ],
   "source": [
    "from langchain_community.llms import Ollama\n",
    "\n",
    "llm = Ollama(model=\"wizard-math:13b\")\n",
    "\n",
    "llm.invoke(prompt)"
   ]
  },
  {
   "cell_type": "code",
   "execution_count": 10,
   "id": "6a209ee0c5d19ffe",
   "metadata": {
    "ExecuteTime": {
     "end_time": "2024-02-15T03:12:21.192471Z",
     "start_time": "2024-02-15T03:12:20.908674Z"
    },
    "collapsed": false
   },
   "outputs": [
    {
     "data": {
      "text/plain": [
       "\"The Luhn algorithm is a checksum formula used to validate a variety of identification numbers, such as credit card numbers. The process involves taking the digits of the number in alternating sequence from right to left starting from the second-to-last digit, multiplying each by 2 (or 1 if the result would be 10 or greater), and then adding all the results together. If the final total is a multiple of 10, then the number is valid according to the Luhn algorithm.\\n\\nTo verify if the given number 4653022489304820 is valid according to the Luhn algorithm, we need to follow these steps:\\n\\nStep 1: Start from the second-to-last digit and go leftwards in alternating sequence. This means we start with the last digit (0), then the second-last digit (2), then the third-last digit (8), and so on. We will be working with these digits only for now.\\n\\nStep 2: Multiply each of these digits by 2. If the result is 10 or more, add the two digits together. For example, if we have a digit 'x', we would calculate 2x. If 2x equals to 10 or more, we would then calculate 2x - 9 (since 10 - 1 = 9).\\n\\nHere's how it works with our given number:\\n\\n- The second-to-last digit is 0, so we have 2*0 = 0.\\n- The last digit is 2, so we have 2*2 = 4.\\n- The third-last digit is 8, so we have 2*8 = 16, which becomes 16 - 9 = 7 when we apply the rule for numbers that result in 10 or more.\\n\\nStep 3: Now, add all these results together. So, we have 0 + 4 + 7 = 11.\\n\\nStep 4: The final total should be a multiple of 10 for the number to be valid according to the Luhn algorithm. In this case, 11 is not a multiple of 10. Therefore, the given number 4653022489304820 is NOT valid according to the Luhn algorithm.\\n\\nThe answer is: The final total should be a multiple of 10 for the number to be considered valid according to the Luhn algorithm. In this case, the sum is 7, which is not divisible by 10. Therefore, the given number is NOT valid according to the Luhn algorithm.\""
      ]
     },
     "execution_count": 10,
     "metadata": {},
     "output_type": "execute_result"
    }
   ],
   "source": [
    "from langchain_community.llms import Ollama\n",
    "\n",
    "llm = Ollama(model=\"wizard-math\")\n",
    "llm.invoke('hey friend')\n",
    "llm.invoke(\"Is the following number valid according to the Luhn algorithm? \"+ str(numbers[0]))"
   ]
  },
  {
   "cell_type": "code",
   "execution_count": null,
   "id": "e919548b1d76a230",
   "metadata": {
    "collapsed": false
   },
   "outputs": [],
   "source": [
    "# from langchain_community.llms import Ollama\n",
    "# \n",
    "# llm = Ollama(model=\"wizard-math:70b-q4_0\")\n",
    "# \n",
    "# llm.invoke(prompt)"
   ]
  }
 ],
 "metadata": {
  "kernelspec": {
   "display_name": "Python 3 (ipykernel)",
   "language": "python",
   "name": "python3"
  },
  "language_info": {
   "codemirror_mode": {
    "name": "ipython",
    "version": 3
   },
   "file_extension": ".py",
   "mimetype": "text/x-python",
   "name": "python",
   "nbconvert_exporter": "python",
   "pygments_lexer": "ipython3",
   "version": "3.11.6"
  }
 },
 "nbformat": 4,
 "nbformat_minor": 5
}
