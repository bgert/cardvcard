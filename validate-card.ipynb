{
 "cells": [
  {
   "cell_type": "markdown",
   "id": "4f29177d8df9115b",
   "metadata": {
    "collapsed": false
   },
   "source": [
    "### Validation\n",
    "Validating a credit card involves the Luhn algorithm works as follows:\n",
    "1. The Luhn algorithm starts from the last digit which is called the check digit. Then moving left from this check digit (←), double the value of every digit at even indices.\n",
    "2. If the result of this doubling operation is greater than 9 (e.g., 6 × 2 = 12), then subtract 9 from the result (e.g., 12: 12 − 9 = 3) or, equivalently, add the digits of the result (e.g., 12: 1 + 2 =3).\n",
    "3. Now sum all the digits (including the check digit).\n",
    "4. If the total is divisible by 10 then the number is valid; otherwise, it is not valid."
   ]
  },
  {
   "cell_type": "code",
   "execution_count": 2,
   "id": "858df0bc",
   "metadata": {
    "ExecuteTime": {
     "end_time": "2024-02-15T15:03:26.133499Z",
     "start_time": "2024-02-15T15:03:26.128272Z"
    }
   },
   "outputs": [
    {
     "data": {
      "text/plain": "True"
     },
     "execution_count": 2,
     "metadata": {},
     "output_type": "execute_result"
    }
   ],
   "source": [
    "# Validate the card the old fashioned way, function accepts 1 argument: number, returns true/false plus issuer\n",
    "\n",
    "def validate(number: str):\n",
    "    card_number_lst = [int(num) for num in number]\n",
    "    check_digit = card_number_lst.pop(-1)\n",
    "    card_number_lst.reverse()\n",
    "    card_number_lst = [num * 2 if i % 2 == 0 else num for i, num in enumerate(card_number_lst)]\n",
    "    card_number_lst = [num - 9 if num > 9 else num for num in card_number_lst]\n",
    "    total = sum(card_number_lst) + check_digit\n",
    "    return total % 10 == 0\n",
    "validate('345106858850943')"
   ]
  },
  {
   "cell_type": "markdown",
   "id": "ebcfd5390d1822c9",
   "metadata": {
    "collapsed": false
   },
   "source": [
    "### Card Type\n",
    "Only looking to determine if the number belongs to these 4 issuers: Visa, MasterCard, American Express, Discover\n",
    "A card from a given issuer always starts with this number:\n",
    "- Visa: 4\n",
    "- MasterCard: 51, 52, 53, 54, 55\n",
    "- American Express: 34, 37\n",
    "- Discover: 6011"
   ]
  },
  {
   "cell_type": "code",
   "execution_count": 3,
   "id": "4f776698d144efb6",
   "metadata": {
    "collapsed": false,
    "ExecuteTime": {
     "end_time": "2024-02-15T15:03:26.158854Z",
     "start_time": "2024-02-15T15:03:26.132177Z"
    }
   },
   "outputs": [
    {
     "data": {
      "text/plain": "'American Express'"
     },
     "execution_count": 3,
     "metadata": {},
     "output_type": "execute_result"
    }
   ],
   "source": [
    "def card_type(number: str):\n",
    "    if number[0] == '4':\n",
    "        return 'Visa'\n",
    "    elif number[:2] in ['51', '52', '53', '54', '55']:\n",
    "        return 'MasterCard'\n",
    "    elif number[:2] in ['34', '37']:\n",
    "        return 'American Express'\n",
    "    elif number[:4] == '6011':\n",
    "        return 'Discover'\n",
    "    else:\n",
    "        return 'Unknown'\n",
    "\n",
    "card_type('345106858850943')"
   ]
  },
  {
   "cell_type": "markdown",
   "id": "e88276f7e851458f",
   "metadata": {
    "collapsed": false
   },
   "source": [
    "### Generation\n",
    "To make this efficient and mitigate the need to post my own CC numbers on the internet, I have written the following function that generates a valid credit card number for a given issuer."
   ]
  },
  {
   "cell_type": "code",
   "execution_count": 4,
   "id": "54508bd11b259e6d",
   "metadata": {
    "collapsed": false,
    "ExecuteTime": {
     "end_time": "2024-02-15T15:03:26.160622Z",
     "start_time": "2024-02-15T15:03:26.137850Z"
    }
   },
   "outputs": [
    {
     "data": {
      "text/plain": "['4271258116732544', '5136571405933637', '6011660788298698', '342966632941547']"
     },
     "execution_count": 4,
     "metadata": {},
     "output_type": "execute_result"
    }
   ],
   "source": [
    "import random\n",
    "visa = ['4']\n",
    "mastercard = ['51', '52', '53', '54', '55']\n",
    "discover = ['6011']\n",
    "amex = ['34', '37']\n",
    "def generate(issuer: str) -> str:\n",
    "    if issuer == 'visa':\n",
    "        return generate_credit_card(visa[0], 16)\n",
    "    elif issuer == 'mastercard':\n",
    "        return generate_credit_card(random.choice(mastercard),16)\n",
    "    elif issuer == 'discover':\n",
    "        return generate_credit_card(discover[0],16)\n",
    "    elif issuer == 'amex':\n",
    "        return generate_credit_card(random.choice(amex),15)\n",
    "    else:\n",
    "        return 'Unknown'\n",
    "\n",
    "\n",
    "def generate_credit_card(prefix: str = '', length: int = 16) -> str:\n",
    "    if length < 2:\n",
    "        raise ValueError(\"Length must be at least 2\")\n",
    "    if len(prefix) > 4:\n",
    "        raise ValueError(\"Prefix length must be at most 4\")\n",
    "\n",
    "    # Generate the random part of the credit card number\n",
    "    random_part_length = length - len(prefix)\n",
    "    random_part = ''.join(str(random.randint(0, 9)) for _ in range(random_part_length - 1))\n",
    "\n",
    "    # Combine prefix and random part\n",
    "    card_number = prefix + random_part\n",
    "    digits = [int(digit) for digit in card_number]\n",
    "    odd_digits = digits[-1::-2]\n",
    "    even_digits = digits[-2::-2]\n",
    "    checksum = sum(even_digits) + sum(sum(divmod(2 * digit, 10)) for digit in odd_digits)\n",
    "    check_digit = 9 * checksum % 10\n",
    "\n",
    "    # Append the check digit to the credit card number\n",
    "    card_number += str(check_digit)\n",
    "\n",
    "    return card_number    \n",
    "    \n",
    "[generate('visa'),\n",
    "generate('mastercard'),\n",
    "generate('discover'),\n",
    "generate('amex')]"
   ]
  },
  {
   "cell_type": "code",
   "execution_count": 5,
   "id": "7498dd39d01ed6c",
   "metadata": {
    "collapsed": false,
    "ExecuteTime": {
     "end_time": "2024-02-15T15:03:26.161056Z",
     "start_time": "2024-02-15T15:03:26.141246Z"
    }
   },
   "outputs": [
    {
     "name": "stdout",
     "output_type": "stream",
     "text": [
      "4663834456341223 is a Visa card and is True\n",
      "5316341638818522 is a MasterCard card and is True\n",
      "6011294247549788 is a Discover card and is True\n",
      "340541431512179 is a American Express card and is True\n"
     ]
    }
   ],
   "source": [
    "# Put it all together\n",
    "numbers = [generate('visa'),\n",
    " generate('mastercard'),\n",
    " generate('discover'),\n",
    " generate('amex')]\n",
    "for number in numbers:\n",
    "    print(f'{number} is a {card_type(number)} card and is {validate(number)}')"
   ]
  },
  {
   "cell_type": "markdown",
   "id": "4aa60011533ccd7",
   "metadata": {
    "collapsed": false
   },
   "source": [
    "### Editorial\n",
    "This is very easy code to write (I swiped all of it from the web), and it executes very quickly. It is obviously more efficient and simpler than using an LLM for the purpose of validating credit card numbers, however, it requires that someone know python (or coding in general). The directions for verifying a credit card number have been expressed in plain english above, and a person could be given those instructions and verify credit card numbers, no python necessary. A person with no technical expertise could also give these guidelines to an LLM and ask the LLM to verify credit card numbers. There are products coming onto the market that abstract away all the implementation and deployment steps of setting up an LLM to do something, and allow you to create processes out of LLM blocks, passing the output of one in as the input to the next. Rather than each block executing computer code, each block queries an LLM with instructions that can be given in human language. This empowers the non-technical to build functions that can automate tasks. We are going to explore whether an LLM can capably validate CC numbers given instructions in english. We will also see if an LLM can generate a valid CC number given instructions in english."
   ]
  },
  {
   "cell_type": "markdown",
   "id": "a11dc4c6ac796be6",
   "metadata": {
    "collapsed": false
   },
   "source": [
    "### Validating with an LLM\n",
    "#### ChatGPT\n",
    "As an experiment I tried to get ChatGPT to do this. This was the initial prompt I gave it:\n",
    "```\n",
    "you are a function machine. Your purpose is to return true if a credit card number is valid. The following is how you would determine if a credit card number is valid:\n",
    "Validating a credit card involves the Luhn algorithm works as follows:\n",
    "1. The Luhn algorithm starts from the last digit which is called the check digit. Then moving left from this check digit (←), double the value of every digit at even indices.\n",
    "2. If the result of this doubling operation is greater than 9 (e.g., 6 × 2 = 12), then subtract 9 from the result (e.g., 12: 12 − 9 = 3) or, equivalently, add the digits of the result (e.g., 12: 1 + 2 =3).\n",
    "3. Now sum all the digits (including the check digit).\n",
    "4. If the total is divisible by 10 then the number is valid; otherwise, it is not valid.\n",
    "\n",
    "\n",
    "is the following number a valid credit card number?\n",
    "345106858850943\n",
    "```\n",
    "That is a valid credit card number so it should have replied true, instead it replied false and gave this explanation of its thoughts.\n",
    "```\n",
    "To determine if the credit card number 345106858850943 is valid using the Luhn algorithm, we need to follow these steps:\n",
    "\n",
    "Starting from the right (the check digit), double the value of every other digit.\n",
    "If the doubled value is greater than 9, subtract 9 from it.\n",
    "Sum all the digits.\n",
    "If the total sum is divisible by 10, the credit card number is valid.\n",
    "Let's apply these steps:\n",
    "\n",
    "Reverse the number: 349058858601543\n",
    "Double every other digit starting from the second digit from the right (the check digit is not doubled):\n",
    "3(2) 4 9(2) 0 5(2) 8 8(2) 6 0(2) 1 5(2) 4 3\n",
    "\n",
    "After doubling and, if necessary, subtracting 9:\n",
    "3(6) 4 9(4) 0 5(10) 8 8(16) 6 0(2) 1 5(10) 4 3\n",
    "\n",
    "Sum all the digits:\n",
    "3 + 6 + 4 + 9 + 4 + 0 + 5 + 1 + 0 + 8 + 8 + 1 + 6 + 6 + 0 + 2 + 1 + 5 + 1 + 0 + 4 + 3 = 82\n",
    "\n",
    "Check if the sum is divisible by 10:\n",
    "82 % 10 = 2 (not divisible by 10)\n",
    "\n",
    "Since the sum is not divisible by 10, the credit card number 345106858850943 is not valid according to the Luhn algorithm.\n",
    "```\n",
    "The mistake was that it forgot to remove the checksum digit before reversing the string. After going back and forth I got it to do the process correctly, however, when I gave it another credit card number, it forgot the corrections I had already given it and made the same mistakes again.\n",
    "### Some open source LLMs"
   ]
  },
  {
   "cell_type": "code",
   "execution_count": 6,
   "id": "b110a92c00733a2e",
   "metadata": {
    "collapsed": false,
    "ExecuteTime": {
     "end_time": "2024-02-15T15:03:39.511220Z",
     "start_time": "2024-02-15T15:03:26.144420Z"
    }
   },
   "outputs": [
    {
     "data": {
      "text/plain": "'To determine if the credit card number \"4663834456341223\" is valid using the Luhn algorithm, we will follow the steps mentioned:\\n\\nStep 1: Start with the last digit, which is the check digit. In this case, it is 3.\\n\\nStep 2: Double the value of every digit at even indices. The digits at even indices are 4, 6, and 8. So, we double their values:\\n\\n4 × 2 = 8\\n6 × 2 = 12\\n8 × 2 = 16\\n\\nStep 3: If the result of the doubling operation is greater than 9, subtract 9 from the result. In this case, the result is 16 - 9 = 7.\\n\\nStep 4: Now sum all the digits (including the check digit). In this case, the total is:\\n\\n4 + 6 + 8 + 3 = 21\\n\\nSince the total is not divisible by 10, the credit card number \"4663834456341223\" is not valid.'"
     },
     "execution_count": 6,
     "metadata": {},
     "output_type": "execute_result"
    }
   ],
   "source": [
    "from langchain_community.llms import Ollama\n",
    "prompt = \"Take a deep breath before answering. The following is how you would determine if a credit card number is valid:\\nValidating a credit card involves the Luhn algorithm works as follows:\\n1. The Luhn algorithm starts from the last digit which is called the check digit. Then moving left from this check digit (←), double the value of every digit at even indices.\\n2. If the result of this doubling operation is greater than 9 (e.g., 6 × 2 = 12), then subtract 9 from the result (e.g., 12: 12 − 9 = 3).\\n3. Now sum all the digits (including the check digit).\\n4. If the total is divisible by 10 then the number is valid; otherwise, it is not valid.\\n\\n\\n is the following number valid? \" + str(numbers[0])\n",
    "llm = Ollama(model=\"llama2\")\n",
    "\n",
    "llm.invoke(prompt)"
   ]
  },
  {
   "cell_type": "code",
   "execution_count": 7,
   "id": "79cba1fcdd6e36f8",
   "metadata": {
    "collapsed": false,
    "ExecuteTime": {
     "end_time": "2024-02-15T15:04:04.109909Z",
     "start_time": "2024-02-15T15:03:39.512251Z"
    }
   },
   "outputs": [
    {
     "data": {
      "text/plain": "\"\\nOkay, let's go through the Luhn algorithm step by step to determine if the given credit card number is valid:\\n\\n1. Start with the last digit, which is 3.\\n2. Double every digit at even indices (in this case, there are three even indices: 4, 6, and 8).\\n\\t* 4 × 2 = 8\\n\\t* 6 × 2 = 12\\n\\t* 8 × 2 = 16\\n3. If the result of doubling is greater than 9, subtract 9 from the result:\\n\\t* 12 − 9 = 3\\n\\t* 16 − 9 = 7\\n4. Now sum all the digits (including the check digit):\\n\\t* 3 + 8 + 1 + 6 + 5 + 4 + 1 + 2 + 3 = 37\\n5. Is the total divisible by 10? Yes, 37 is divisible by 10, so the credit card number is valid.\\n\\nTherefore, the given credit card number 4663834456341223 is valid.\""
     },
     "execution_count": 7,
     "metadata": {},
     "output_type": "execute_result"
    }
   ],
   "source": [
    "from langchain_community.llms import Ollama\n",
    "\n",
    "llm = Ollama(model=\"llama2:13b\")\n",
    "\n",
    "llm.invoke(prompt)"
   ]
  },
  {
   "cell_type": "code",
   "execution_count": 15,
   "id": "bd3b92a9be5f7895",
   "metadata": {
    "collapsed": false,
    "ExecuteTime": {
     "end_time": "2024-02-15T15:17:01.750917Z",
     "start_time": "2024-02-15T15:16:59.344413Z"
    }
   },
   "outputs": [
    {
     "name": "stdout",
     "output_type": "stream",
     "text": [
      "4663834456341223\n"
     ]
    },
    {
     "data": {
      "text/plain": "'\\nThe answer is: 0.\\n\\n'"
     },
     "execution_count": 15,
     "metadata": {},
     "output_type": "execute_result"
    }
   ],
   "source": [
    "from langchain_community.llms import Ollama\n",
    "from langchain_core.prompts import ChatPromptTemplate\n",
    "from langchain_core.output_parsers import StrOutputParser\n",
    "\n",
    "llm = Ollama(model=\"wizard-math:13b\")\n",
    "prompt1 = ChatPromptTemplate.from_messages([\n",
    "    (\"system\", \"You are an entity whose one purpose is to validate credit card numbers according to the luhn algorithm from input. The algorithm has the following steps:\\nValidating a credit card involves the Luhn algorithm works as follows:\\n1. The Luhn algorithm starts from the last digit which is called the check digit. Then moving left from this check digit (←), double the value of every digit at even indices.\\n2. If the result of this doubling operation is greater than 9 (e.g., 6 × 2 = 12), then subtract 9 from the result (e.g., 12: 12 − 9 = 3).\\n3. Now sum all the digits (including the check digit).\\n4. If the total is divisible by 10 then the number is valid; otherwise, it is not valid. Think step by step as you solve this\"),\n",
    "    (\"user\", \"{input}\")\n",
    "])\n",
    "output_parser = StrOutputParser()\n",
    "\n",
    "chain = prompt1 | llm | output_parser\n",
    "print(str(numbers[0]))\n",
    "chain.invoke({\"input\":str(numbers[0])})"
   ]
  },
  {
   "cell_type": "code",
   "execution_count": 35,
   "id": "6a209ee0c5d19ffe",
   "metadata": {
    "collapsed": false,
    "ExecuteTime": {
     "end_time": "2024-02-15T16:31:47.360146Z",
     "start_time": "2024-02-15T16:31:13.199797Z"
    }
   },
   "outputs": [
    {
     "data": {
      "text/plain": "{'question': 'Whats 15cos(11)',\n 'answer': 'Answer:  The numerical value of 15 * cos(11) is approximately 79.836.\\n\\nThe answer is: To solve the given math problem using Python\\'s numexpr library, we can follow these steps:\\n1. Import the numexpr library:\\n```python\\nimport numexpr\\n```\\n2. Define the mathematical expression:\\n```python\\nexpression = \"15 * cos(11)\"\\n```\\n3. Evaluate the expression using numexpr:\\n```python\\nresult = numexpr.evaluate(expression)\\nprint(result)\\n```\\n4. The output of this code will be the numerical value of 15 * cos(11), which is approximately 79.836.'}"
     },
     "execution_count": 35,
     "metadata": {},
     "output_type": "execute_result"
    }
   ],
   "source": [
    "from langchain_community.llms import Ollama\n",
    "from langchain.chains import LLMMathChain\n",
    "\n",
    "llm = Ollama(model=\"wizard-math:13b\")\n",
    "\n",
    "llm_math = LLMMathChain.from_llm(llm)\n",
    "# llm.invoke('Double every other number starting with the second, if the value is greater than 9, subtract 9: 4663834456341223')\n",
    "# question=\"Convert the following number into an array of numbers, where each index has 1 number, starting with the second number in the array, double every other number. 4663834456341223\"\n",
    "question = 'Whats 15cos(11)'\n",
    "llm_math.invoke(question)"
   ]
  },
  {
   "cell_type": "code",
   "execution_count": null,
   "id": "e919548b1d76a230",
   "metadata": {
    "collapsed": false,
    "ExecuteTime": {
     "start_time": "2024-02-15T15:04:04.167284Z"
    }
   },
   "outputs": [],
   "source": [
    "from langchain_community.llms import Ollama\n",
    "\n",
    "# llm = Ollama(model=\"wizard-math:70b-q4_0\")\n",
    "llm = Ollama(model='llama-pro:8b-text-fp16')\n",
    "llm.invoke(prompt)\n",
    "# llm.invoke('sup bitch')"
   ]
  },
  {
   "cell_type": "code",
   "outputs": [],
   "source": [],
   "metadata": {
    "collapsed": false,
    "ExecuteTime": {
     "end_time": "2024-02-15T15:04:04.168913Z",
     "start_time": "2024-02-15T15:04:04.168318Z"
    }
   },
   "id": "4d9ea201901c1d75"
  }
 ],
 "metadata": {
  "kernelspec": {
   "display_name": "Python 3 (ipykernel)",
   "language": "python",
   "name": "python3"
  },
  "language_info": {
   "codemirror_mode": {
    "name": "ipython",
    "version": 3
   },
   "file_extension": ".py",
   "mimetype": "text/x-python",
   "name": "python",
   "nbconvert_exporter": "python",
   "pygments_lexer": "ipython3",
   "version": "3.11.6"
  }
 },
 "nbformat": 4,
 "nbformat_minor": 5
}
