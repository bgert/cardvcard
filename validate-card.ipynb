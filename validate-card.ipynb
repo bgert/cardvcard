{
 "cells": [
  {
   "cell_type": "markdown",
   "source": [
    "### Validation\n",
    "Validating a credit card involves the Luhn algorithm works as follows:\n",
    "1. The Luhn algorithm starts from the last digit which is called the check digit. Then moving left from this check digit (←), double the value of every digit at even indices.\n",
    "2. If the result of this doubling operation is greater than 9 (e.g., 6 × 2 = 12), then subtract 9 from the result (e.g., 12: 12 − 9 = 3) or, equivalently, add the digits of the result (e.g., 12: 1 + 2 =3).\n",
    "3. Now sum all the digits (including the check digit).\n",
    "4. If the total is divisible by 10 then the number is valid; otherwise, it is not valid."
   ],
   "metadata": {
    "collapsed": false
   },
   "id": "4f29177d8df9115b"
  },
  {
   "cell_type": "code",
   "execution_count": null,
   "id": "858df0bc",
   "metadata": {},
   "outputs": [],
   "source": [
    "# Validate the card the old fashioned way, function accepts 1 arguement: number, returns true/false plus issuer\n",
    "\n",
    "def validate(number: str):\n",
    "    card_number_lst = [int(num) for num in number]\n",
    "    check_digit = card_number_lst.pop(-1)\n",
    "    card_number_lst.reverse()\n",
    "    card_number_lst = [num * 2 if i % 2 == 0 else num for i, num in enumerate(card_number_lst)]\n",
    "    card_number_lst = [num - 9 if num > 9 else num for num in card_number_lst]\n",
    "    total = sum(card_number_lst) + check_digit\n",
    "    return total % 10 == 0\n",
    "validate('345106858850943')"
   ]
  },
  {
   "cell_type": "markdown",
   "source": [
    "### Card Type\n",
    "Only looking to determine if the number belongs to these 4 issuers: Visa, MasterCard, American Express, Discover\n",
    "A card from a given issuer always starts with this number:\n",
    "- Visa: 4\n",
    "- MasterCard: 51, 52, 53, 54, 55\n",
    "- American Express: 34, 37\n",
    "- Discover: 6011"
   ],
   "metadata": {
    "collapsed": false
   },
   "id": "ebcfd5390d1822c9"
  },
  {
   "cell_type": "code",
   "outputs": [],
   "source": [
    "def card_type(number: str):\n",
    "    if number[0] == '4':\n",
    "        return 'Visa'\n",
    "    elif number[:2] in ['51', '52', '53', '54', '55']:\n",
    "        return 'MasterCard'\n",
    "    elif number[:2] in ['34', '37']:\n",
    "        return 'American Express'\n",
    "    elif number[:4] == '6011':\n",
    "        return 'Discover'\n",
    "    else:\n",
    "        return 'Unknown'\n",
    "\n",
    "card_type('345106858850943')"
   ],
   "metadata": {
    "collapsed": false
   },
   "id": "4f776698d144efb6",
   "execution_count": null
  },
  {
   "cell_type": "markdown",
   "source": [
    "### Generation\n",
    "To make this efficient and mitigate the need to post my own CC numbers on the internet, I have written the following function that generates a valid credit card number for a given issuer."
   ],
   "metadata": {
    "collapsed": false
   },
   "id": "e88276f7e851458f"
  },
  {
   "cell_type": "code",
   "outputs": [],
   "source": [
    "import random\n",
    "visa = ['4']\n",
    "mastercard = ['51', '52', '53', '54', '55']\n",
    "discover = ['6011']\n",
    "amex = ['34', '37']\n",
    "def generate(issuer: str) -> str:\n",
    "    if issuer == 'visa':\n",
    "        return generate_credit_card(visa[0], 16)\n",
    "    elif issuer == 'mastercard':\n",
    "        return generate_credit_card(random.choice(mastercard),16)\n",
    "    elif issuer == 'discover':\n",
    "        return generate_credit_card(discover[0],16)\n",
    "    elif issuer == 'amex':\n",
    "        return generate_credit_card(random.choice(amex),15)\n",
    "    else:\n",
    "        return 'Unknown'\n",
    "\n",
    "\n",
    "def generate_credit_card(prefix: str = '', length: int = 16) -> str:\n",
    "    if length < 2:\n",
    "        raise ValueError(\"Length must be at least 2\")\n",
    "    if len(prefix) > 4:\n",
    "        raise ValueError(\"Prefix length must be at most 4\")\n",
    "\n",
    "    # Generate the random part of the credit card number\n",
    "    random_part_length = length - len(prefix)\n",
    "    random_part = ''.join(str(random.randint(0, 9)) for _ in range(random_part_length - 1))\n",
    "\n",
    "    # Combine prefix and random part\n",
    "    card_number = prefix + random_part\n",
    "    digits = [int(digit) for digit in card_number]\n",
    "    odd_digits = digits[-1::-2]\n",
    "    even_digits = digits[-2::-2]\n",
    "    checksum = sum(even_digits) + sum(sum(divmod(2 * digit, 10)) for digit in odd_digits)\n",
    "    check_digit = 9 * checksum % 10\n",
    "\n",
    "    # Append the check digit to the credit card number\n",
    "    card_number += str(check_digit)\n",
    "\n",
    "    return card_number    \n",
    "    \n",
    "[generate('visa'),\n",
    "generate('mastercard'),\n",
    "generate('discover'),\n",
    "generate('amex')]"
   ],
   "metadata": {
    "collapsed": false
   },
   "id": "54508bd11b259e6d",
   "execution_count": null
  },
  {
   "cell_type": "code",
   "outputs": [],
   "source": [
    "# Put it all together\n",
    "numbers = [generate('visa'),\n",
    " generate('mastercard'),\n",
    " generate('discover'),\n",
    " generate('amex')]\n",
    "for number in numbers:\n",
    "    print(f'{number} is a {card_type(number)} card and is {validate(number)}')"
   ],
   "metadata": {
    "collapsed": false
   },
   "id": "7498dd39d01ed6c",
   "execution_count": null
  },
  {
   "cell_type": "markdown",
   "source": [
    "### Editorial\n",
    "This is very easy code to write (I swiped all of it from the web), and it executes very quickly. It is obviously more efficient and simpler than using an LLM for the purpose of validating credit card numbers, however, it requires that someone know python (or coding in general). The directions for verifying a credit card number have been expressed in plain english above, and a person could be given those instructions and verify credit card numbers, no python necessary. A person with no technical expertise could also give these guidelines to an LLM and ask the LLM to verify credit card numbers. There are products coming onto the market that abstract away all the implementation and deployment steps of setting up an LLM to do something, and allow you to create processes out of LLM blocks, passing the output of one in as the input to the next. Rather than each block executing computer code, each block queries an LLM with instructions that can be given in human language. This empowers the non-technical to build functions that can automate tasks. We are going to explore whether an LLM can capably validate CC numbers given instructions in english. We will also see if an LLM can generate a valid CC number given instructions in english."
   ],
   "metadata": {
    "collapsed": false
   },
   "id": "4aa60011533ccd7"
  }
 ],
 "metadata": {
  "kernelspec": {
   "display_name": "Python 3 (ipykernel)",
   "language": "python",
   "name": "python3"
  },
  "language_info": {
   "codemirror_mode": {
    "name": "ipython",
    "version": 3
   },
   "file_extension": ".py",
   "mimetype": "text/x-python",
   "name": "python",
   "nbconvert_exporter": "python",
   "pygments_lexer": "ipython3",
   "version": "3.11.6"
  }
 },
 "nbformat": 4,
 "nbformat_minor": 5
}
